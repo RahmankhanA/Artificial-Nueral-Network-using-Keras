{
  "nbformat": 4,
  "nbformat_minor": 0,
  "metadata": {
    "colab": {
      "name": "Hyper Parameter Tunning in deep learning with churn_modeling.ipynb",
      "provenance": [],
      "private_outputs": true,
      "authorship_tag": "ABX9TyNDPLEl2mfchIwm+aFdrBCn",
      "include_colab_link": true
    },
    "kernelspec": {
      "name": "python3",
      "display_name": "Python 3"
    },
    "accelerator": "GPU"
  },
  "cells": [
    {
      "cell_type": "markdown",
      "metadata": {
        "id": "view-in-github",
        "colab_type": "text"
      },
      "source": [
        "<a href=\"https://colab.research.google.com/github/RahmankhanA/Artificial-Nueral-Network-using-Keras/blob/main/Hyper_Parameter_Tunning_in_deep_learning_with_churn_modeling.ipynb\" target=\"_parent\"><img src=\"https://colab.research.google.com/assets/colab-badge.svg\" alt=\"Open In Colab\"/></a>"
      ]
    },
    {
      "cell_type": "code",
      "metadata": {
        "id": "WA8g7R2HbSBA"
      },
      "source": [
        "\n",
        "import numpy as np\n",
        "import pandas as pd"
      ],
      "execution_count": null,
      "outputs": []
    },
    {
      "cell_type": "code",
      "metadata": {
        "id": "n-VzUC6wb18u"
      },
      "source": [
        "#Loading Dataset\n",
        "\n",
        "dataset=pd.read_csv('Churn_Modelling.csv')\n",
        "dataset.head()\n",
        "\n",
        "dataset.info()\n",
        "\n",
        "X=dataset.iloc[:,3:13]\n",
        "y=dataset.iloc[:,13]\n",
        "# Create Dummy Variables\n",
        "#\n",
        "geography=pd.get_dummies(X[\"Geography\"],drop_first=True)\n",
        "gender=pd.get_dummies(X[\"Gender\"],drop_first=True)\n",
        "# Add Them to the Dataset\n",
        "\n",
        "X=pd.concat([X,geography,gender], axis=1)\n",
        "# Drop Unwanted Columns\n",
        "\n",
        "X=X.drop(['Geography', 'Gender'],axis=1)\n",
        "# Splitting Dataset into Train and Test\n",
        "\n",
        "from sklearn.model_selection import train_test_split\n",
        "X_train, X_test, y_train, y_test= train_test_split(X, y, test_size=0.25, random_state=0)\n",
        "# Feature Scaling\n",
        "\n",
        "from sklearn.preprocessing import StandardScaler\n",
        "sc=StandardScaler()\n",
        "X_train=sc.fit_transform(X_train)\n",
        "X_test=sc.fit_transform(X_test)"
      ],
      "execution_count": null,
      "outputs": []
    },
    {
      "cell_type": "code",
      "metadata": {
        "id": "vshZqJm6cIm8"
      },
      "source": [
        "X.head()"
      ],
      "execution_count": null,
      "outputs": []
    },
    {
      "cell_type": "markdown",
      "metadata": {
        "id": "QYD7sb46c27k"
      },
      "source": [
        "# ***Performing Hyperparameter Optimization***"
      ]
    },
    {
      "cell_type": "code",
      "metadata": {
        "id": "SZvBGiY8cryd"
      },
      "source": [
        "!pip install -q keras \n",
        "# Importing Library and package\n",
        "from keras.wrappers.scikit_learn import  KerasClassifier\n",
        "from sklearn.model_selection import GridSearchCV\n",
        "\n",
        "\n",
        "\n",
        "import keras\n",
        "from keras.models import Sequential\n",
        "\n",
        "from keras.layers import LeakyReLU, PReLU,ELU,Dropout,Dense,Activation,Flatten,LeakyReLU,BatchNormalization\n",
        "from keras.activations import  relu,sigmoid"
      ],
      "execution_count": null,
      "outputs": []
    },
    {
      "cell_type": "code",
      "metadata": {
        "id": "0aKo2Xg_nk84"
      },
      "source": [
        "X_train.shape[1]"
      ],
      "execution_count": null,
      "outputs": []
    },
    {
      "cell_type": "code",
      "metadata": {
        "id": "bI4cqNLfeCzt"
      },
      "source": [
        "def create_model(layers,activation):\n",
        "  model=Sequential()\n",
        "  for i , nodes in enumerate(layers):\n",
        "    if i==0:\n",
        "      model.add(Dense(nodes, input_dim=X_train.shape[1]))\n",
        "      model.add(Activation(activation))\n",
        "      model.add(Dropout(0.3))\n",
        "    else:\n",
        "      model.add(Dense(nodes))\n",
        "      model.add(Activation(activation))\n",
        "      model.add(Dropout(0.3))\n",
        "  \n",
        "  model.add(Dense(units=1, kernel_initializer='glorot_normal', activation='sigmoid'))\n",
        "  model.compile(optimizer='adam', loss='binary_crossentropy',  metrics=['accuracy'])\n",
        "  return model"
      ],
      "execution_count": null,
      "outputs": []
    },
    {
      "cell_type": "code",
      "metadata": {
        "id": "4rCcoPJqgPej"
      },
      "source": [
        "model=KerasClassifier(build_fn=create_model,verbose=0)"
      ],
      "execution_count": null,
      "outputs": []
    },
    {
      "cell_type": "code",
      "metadata": {
        "id": "ULgBDWYGgjK6"
      },
      "source": [
        "layers=[(200,),(400,300),(450,700,150)]\n",
        "activations=['sigmoid', 'relu']\n",
        "param_grid=dict(layers=layers,activation=activations, batch_size=[128,256], epochs=[100])\n",
        "grid=GridSearchCV(estimator=model, param_grid=param_grid,)\n"
      ],
      "execution_count": null,
      "outputs": []
    },
    {
      "cell_type": "code",
      "metadata": {
        "id": "_eml6frYiTAE"
      },
      "source": [
        "grid_result=grid.fit(X_train, y_train)"
      ],
      "execution_count": null,
      "outputs": []
    },
    {
      "cell_type": "code",
      "metadata": {
        "id": "RBNsuukpigbJ"
      },
      "source": [
        "grid_result.best_score_"
      ],
      "execution_count": null,
      "outputs": []
    },
    {
      "cell_type": "code",
      "metadata": {
        "id": "jTSXuz7eoeiJ"
      },
      "source": [
        "grid_result.best_params_"
      ],
      "execution_count": null,
      "outputs": []
    },
    {
      "cell_type": "code",
      "metadata": {
        "id": "BIeeVD_ioncX"
      },
      "source": [
        "\n",
        "y_pred= grid.predict(X_test)\n",
        "y_pred=(y_pred > 0.5)"
      ],
      "execution_count": null,
      "outputs": []
    },
    {
      "cell_type": "code",
      "metadata": {
        "id": "A7gSMSLMo0bH"
      },
      "source": [
        "\n",
        "from sklearn.metrics import confusion_matrix\n",
        "\n",
        "cm =confusion_matrix(y_test,y_pred)\n",
        "cm"
      ],
      "execution_count": null,
      "outputs": []
    },
    {
      "cell_type": "code",
      "metadata": {
        "id": "1WL_rhAipXLl"
      },
      "source": [
        "\n",
        "from sklearn.metrics import accuracy_score\n",
        "score= accuracy_score(y_test,y_pred)\n",
        "score"
      ],
      "execution_count": null,
      "outputs": []
    },
    {
      "cell_type": "code",
      "metadata": {
        "id": "vqYzrIT5qmDl"
      },
      "source": [
        "0.8614666581153869"
      ],
      "execution_count": null,
      "outputs": []
    }
  ]
}