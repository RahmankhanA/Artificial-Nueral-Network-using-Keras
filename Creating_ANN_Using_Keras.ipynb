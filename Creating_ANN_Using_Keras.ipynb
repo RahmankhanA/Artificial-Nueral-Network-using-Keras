{
  "nbformat": 4,
  "nbformat_minor": 0,
  "metadata": {
    "colab": {
      "name": "Creating-ANN-Using-Keras.ipynb",
      "provenance": [],
      "private_outputs": true,
      "toc_visible": true,
      "authorship_tag": "ABX9TyOIpnsY3NrN0cEGYKRCgDNe",
      "include_colab_link": true
    },
    "kernelspec": {
      "name": "python3",
      "display_name": "Python 3"
    }
  },
  "cells": [
    {
      "cell_type": "markdown",
      "metadata": {
        "id": "view-in-github",
        "colab_type": "text"
      },
      "source": [
        "<a href=\"https://colab.research.google.com/github/RahmankhanA/Artificial-Nueral-Network-using-Keras/blob/main/Creating_ANN_Using_Keras.ipynb\" target=\"_parent\"><img src=\"https://colab.research.google.com/assets/colab-badge.svg\" alt=\"Open In Colab\"/></a>"
      ]
    },
    {
      "cell_type": "markdown",
      "metadata": {
        "id": "7eGI87nVKDuj"
      },
      "source": [
        "# ***Part 1***"
      ]
    },
    {
      "cell_type": "code",
      "metadata": {
        "id": "vz78zOqCKD-c"
      },
      "source": [
        ""
      ],
      "execution_count": null,
      "outputs": []
    },
    {
      "cell_type": "code",
      "metadata": {
        "id": "Px-uwIbmuzea"
      },
      "source": [
        "import numpy as np\n",
        "import pandas as pd\n",
        "import matplotlib.pyplot as plt\n"
      ],
      "execution_count": null,
      "outputs": []
    },
    {
      "cell_type": "markdown",
      "metadata": {
        "id": "3yo5kqAFBpK4"
      },
      "source": [
        "# ***Loading Dataset***"
      ]
    },
    {
      "cell_type": "code",
      "metadata": {
        "id": "AFFNPI3EAt7K"
      },
      "source": [
        "dataset=pd.read_csv('Churn_Modelling.csv')\n",
        "dataset.head()\n"
      ],
      "execution_count": null,
      "outputs": []
    },
    {
      "cell_type": "code",
      "metadata": {
        "id": "b3T4aOYRA9qY"
      },
      "source": [
        "dataset.info()"
      ],
      "execution_count": null,
      "outputs": []
    },
    {
      "cell_type": "code",
      "metadata": {
        "id": "wQPseuQxBKoI"
      },
      "source": [
        "X=dataset.iloc[:,3:13]\n",
        "y=dataset.iloc[:,13]"
      ],
      "execution_count": null,
      "outputs": []
    },
    {
      "cell_type": "markdown",
      "metadata": {
        "id": "o3J1KB20BvlI"
      },
      "source": [
        "# ***Create Dummy Variables***"
      ]
    },
    {
      "cell_type": "code",
      "metadata": {
        "id": "cIZmq5W3Bux-"
      },
      "source": [
        "geography=pd.get_dummies(X[\"Geography\"],drop_first=True)\n",
        "gender=pd.get_dummies(X[\"Gender\"],drop_first=True)"
      ],
      "execution_count": null,
      "outputs": []
    },
    {
      "cell_type": "markdown",
      "metadata": {
        "id": "o20LeFIkCS6f"
      },
      "source": [
        "# ***Add Them to the Dataset***"
      ]
    },
    {
      "cell_type": "code",
      "metadata": {
        "id": "ncqdLyehCPtw"
      },
      "source": [
        "X=pd.concat([X,geography,gender], axis=1)"
      ],
      "execution_count": null,
      "outputs": []
    },
    {
      "cell_type": "markdown",
      "metadata": {
        "id": "D3jzCFIXITTT"
      },
      "source": [
        "# ***Drop Unwanted Columns***"
      ]
    },
    {
      "cell_type": "code",
      "metadata": {
        "id": "TpvrHYSFCqoJ"
      },
      "source": [
        "X=X.drop(['Geography', 'Gender'],axis=1)"
      ],
      "execution_count": null,
      "outputs": []
    },
    {
      "cell_type": "markdown",
      "metadata": {
        "id": "GAHUJJ8dIbuL"
      },
      "source": [
        "# ***Splitting Dataset into Train and Test***"
      ]
    },
    {
      "cell_type": "code",
      "metadata": {
        "id": "KND5UNI2IFXr"
      },
      "source": [
        "from sklearn.model_selection import train_test_split\n",
        "X_train, X_test, y_train, y_test= train_test_split(X, y, test_size=0.25, random_state=0)"
      ],
      "execution_count": null,
      "outputs": []
    },
    {
      "cell_type": "markdown",
      "metadata": {
        "id": "EcjBs7XcJVxj"
      },
      "source": [
        "# ***Feature Scaling***"
      ]
    },
    {
      "cell_type": "code",
      "metadata": {
        "id": "K48Lxob5JTK7"
      },
      "source": [
        "from sklearn.preprocessing import StandardScaler\n",
        "sc=StandardScaler()\n",
        "X_train=sc.fit_transform(X_train)\n",
        "X_test=sc.fit_transform(X_test)"
      ],
      "execution_count": null,
      "outputs": []
    },
    {
      "cell_type": "markdown",
      "metadata": {
        "id": "kHCbxuFkKLla"
      },
      "source": [
        "# ***Part 2 -  Now lets make the ANN***"
      ]
    },
    {
      "cell_type": "code",
      "metadata": {
        "id": "HneIehpPKBWr"
      },
      "source": [
        "# Importing Library and package\n",
        "import keras\n",
        "from keras.models import Sequential\n",
        "from keras.layers import Dense\n",
        "from keras.layers import LeakyReLU, PReLU,ELU\n",
        "from keras.layers import Dropout"
      ],
      "execution_count": null,
      "outputs": []
    },
    {
      "cell_type": "code",
      "metadata": {
        "id": "wmT-F0wsLK0q"
      },
      "source": [
        "# Initialising the ANN\n",
        "classifier=Sequential()"
      ],
      "execution_count": null,
      "outputs": []
    },
    {
      "cell_type": "code",
      "metadata": {
        "id": "tEiYzNPwLccD"
      },
      "source": [
        "# Adding the input layer and first hidden layer\n",
        "classifier.add(Dense(units=10, kernel_initializer='he_normal', activation='relu', input_dim=11))\n",
        "classifier.add(Dropout(0.3))"
      ],
      "execution_count": null,
      "outputs": []
    },
    {
      "cell_type": "code",
      "metadata": {
        "id": "1BtaOPtHMSiZ"
      },
      "source": [
        "# Adding the second hidden layer\n",
        "classifier.add(Dense(units=15, kernel_initializer='he_normal', activation='relu'))\n",
        "classifier.add(Dropout(0.4))"
      ],
      "execution_count": null,
      "outputs": []
    },
    {
      "cell_type": "code",
      "metadata": {
        "id": "E-Rbfm7_hhS8"
      },
      "source": [
        "# Adding the third hidden layer\n",
        "classifier.add(Dense(units=20, kernel_initializer='he_normal', activation='relu'))\n",
        "classifier.add(Dropout(0.2))"
      ],
      "execution_count": null,
      "outputs": []
    },
    {
      "cell_type": "code",
      "metadata": {
        "id": "ViJEH9rDNHjC"
      },
      "source": [
        "# Adding the output layer \n",
        "classifier.add(Dense(units=1, kernel_initializer='glorot_normal', activation='sigmoid'))"
      ],
      "execution_count": null,
      "outputs": []
    },
    {
      "cell_type": "code",
      "metadata": {
        "id": "qyEYgCYDNeHh"
      },
      "source": [
        "classifier.summary()"
      ],
      "execution_count": null,
      "outputs": []
    },
    {
      "cell_type": "code",
      "metadata": {
        "id": "K1ikFQr7NoL0"
      },
      "source": [
        "# compiling the ANN\n",
        "classifier.compile(optimizer='adam', loss='binary_crossentropy',  metrics=['accuracy'])"
      ],
      "execution_count": null,
      "outputs": []
    },
    {
      "cell_type": "code",
      "metadata": {
        "id": "h0i7DsfhO87c"
      },
      "source": [
        "model_history=classifier.fit(X_train,y_train, validation_split=0.33, batch_size=10,   epochs=200)"
      ],
      "execution_count": null,
      "outputs": []
    },
    {
      "cell_type": "markdown",
      "metadata": {
        "id": "mR1sF35HgkCh"
      },
      "source": [
        "**Predicting the test result**"
      ]
    },
    {
      "cell_type": "code",
      "metadata": {
        "id": "Hjz0GvPob4za"
      },
      "source": [
        "y_pred= classifier.predict(X_test)\n",
        "y_pred=(y_pred > 0.5)"
      ],
      "execution_count": null,
      "outputs": []
    },
    {
      "cell_type": "markdown",
      "metadata": {
        "id": "hswuMwRegs4N"
      },
      "source": [
        "*Making Confusion Matrix*"
      ]
    },
    {
      "cell_type": "code",
      "metadata": {
        "id": "TjXdf1KUe-aw"
      },
      "source": [
        "from sklearn.metrics import confusion_matrix\n",
        "\n",
        "cm =confusion_matrix(y_test,y_pred)\n",
        "cm"
      ],
      "execution_count": null,
      "outputs": []
    },
    {
      "cell_type": "markdown",
      "metadata": {
        "id": "eAfnCVxcg1NV"
      },
      "source": [
        "***Calculating the accuracy***"
      ]
    },
    {
      "cell_type": "code",
      "metadata": {
        "id": "L-ewETzZfKpd"
      },
      "source": [
        "from sklearn.metrics import accuracy_score\n",
        "score= accuracy_score(y_test,y_pred)\n",
        "score"
      ],
      "execution_count": null,
      "outputs": []
    },
    {
      "cell_type": "code",
      "metadata": {
        "id": "8qRso5EjgCtP"
      },
      "source": [
        "# uniform \n",
        "# array([[1894,   97],\n",
        "#        [ 240,  269]])    0.8652\n",
        "\n",
        "# normal \n",
        "#array([[1882,  109],\n",
        "      #  [ 286,  223]])      0.842\n",
        "# adding dropout\n",
        "# array([[1928,   63],\n",
        "#        [ 291,  218]])         0.8584\n"
      ],
      "execution_count": null,
      "outputs": []
    },
    {
      "cell_type": "code",
      "metadata": {
        "id": "uvq-Eo4gSY9l"
      },
      "source": [
        ""
      ],
      "execution_count": null,
      "outputs": []
    }
  ]
}